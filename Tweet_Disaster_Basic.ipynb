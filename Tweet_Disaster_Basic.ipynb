{
  "nbformat": 4,
  "nbformat_minor": 0,
  "metadata": {
    "colab": {
      "name": "Tweet Disaster Basic.ipynb",
      "provenance": [],
      "collapsed_sections": [],
      "authorship_tag": "ABX9TyMdXDjaShzpTCN+eodiikpL",
      "include_colab_link": true
    },
    "kernelspec": {
      "name": "python3",
      "display_name": "Python 3"
    },
    "language_info": {
      "name": "python"
    }
  },
  "cells": [
    {
      "cell_type": "markdown",
      "metadata": {
        "id": "view-in-github",
        "colab_type": "text"
      },
      "source": [
        "<a href=\"https://colab.research.google.com/github/terkoizmy/TweetDisaster/blob/main/Tweet_Disaster_Basic.ipynb\" target=\"_parent\"><img src=\"https://colab.research.google.com/assets/colab-badge.svg\" alt=\"Open In Colab\"/></a>"
      ]
    },
    {
      "cell_type": "markdown",
      "metadata": {
        "id": "P9RS4c087yPU"
      },
      "source": [
        "# Import Library"
      ]
    },
    {
      "cell_type": "code",
      "metadata": {
        "colab": {
          "base_uri": "https://localhost:8080/"
        },
        "id": "ze7eWfX8_VmO",
        "outputId": "e33bdc27-e6d3-439b-8185-a2e214cb9fb2"
      },
      "source": [
        "import pandas as pd\n",
        "import numpy as np\n",
        "import matplotlib.pyplot as plt\n",
        "import re\n",
        "import nltk\n",
        "nltk.download('stopwords')\n",
        "nltk.download('wordnet')\n",
        "from nltk.corpus import stopwords\n",
        "import xgboost as xgb\n",
        "from xgboost import XGBClassifier\n",
        "from tensorflow.python.keras.preprocessing.text import Tokenizer\n",
        "from nltk.stem import WordNetLemmatizer"
      ],
      "execution_count": 162,
      "outputs": [
        {
          "output_type": "stream",
          "text": [
            "[nltk_data] Downloading package stopwords to /root/nltk_data...\n",
            "[nltk_data]   Package stopwords is already up-to-date!\n",
            "[nltk_data] Downloading package wordnet to /root/nltk_data...\n",
            "[nltk_data]   Package wordnet is already up-to-date!\n"
          ],
          "name": "stdout"
        }
      ]
    },
    {
      "cell_type": "code",
      "metadata": {
        "id": "7FPiZm4ADK0G"
      },
      "source": [
        "df_train = pd.read_csv('train.csv')"
      ],
      "execution_count": 164,
      "outputs": []
    },
    {
      "cell_type": "code",
      "metadata": {
        "colab": {
          "base_uri": "https://localhost:8080/",
          "height": 204
        },
        "id": "Pu4YQHCrDjZH",
        "outputId": "e89862ef-ed73-42c6-f62b-1678507e3fab"
      },
      "source": [
        "df_train.head()"
      ],
      "execution_count": 165,
      "outputs": [
        {
          "output_type": "execute_result",
          "data": {
            "text/html": [
              "<div>\n",
              "<style scoped>\n",
              "    .dataframe tbody tr th:only-of-type {\n",
              "        vertical-align: middle;\n",
              "    }\n",
              "\n",
              "    .dataframe tbody tr th {\n",
              "        vertical-align: top;\n",
              "    }\n",
              "\n",
              "    .dataframe thead th {\n",
              "        text-align: right;\n",
              "    }\n",
              "</style>\n",
              "<table border=\"1\" class=\"dataframe\">\n",
              "  <thead>\n",
              "    <tr style=\"text-align: right;\">\n",
              "      <th></th>\n",
              "      <th>id</th>\n",
              "      <th>keyword</th>\n",
              "      <th>location</th>\n",
              "      <th>text</th>\n",
              "      <th>target</th>\n",
              "    </tr>\n",
              "  </thead>\n",
              "  <tbody>\n",
              "    <tr>\n",
              "      <th>0</th>\n",
              "      <td>1</td>\n",
              "      <td>NaN</td>\n",
              "      <td>NaN</td>\n",
              "      <td>Our Deeds are the Reason of this #earthquake M...</td>\n",
              "      <td>1</td>\n",
              "    </tr>\n",
              "    <tr>\n",
              "      <th>1</th>\n",
              "      <td>4</td>\n",
              "      <td>NaN</td>\n",
              "      <td>NaN</td>\n",
              "      <td>Forest fire near La Ronge Sask. Canada</td>\n",
              "      <td>1</td>\n",
              "    </tr>\n",
              "    <tr>\n",
              "      <th>2</th>\n",
              "      <td>5</td>\n",
              "      <td>NaN</td>\n",
              "      <td>NaN</td>\n",
              "      <td>All residents asked to 'shelter in place' are ...</td>\n",
              "      <td>1</td>\n",
              "    </tr>\n",
              "    <tr>\n",
              "      <th>3</th>\n",
              "      <td>6</td>\n",
              "      <td>NaN</td>\n",
              "      <td>NaN</td>\n",
              "      <td>13,000 people receive #wildfires evacuation or...</td>\n",
              "      <td>1</td>\n",
              "    </tr>\n",
              "    <tr>\n",
              "      <th>4</th>\n",
              "      <td>7</td>\n",
              "      <td>NaN</td>\n",
              "      <td>NaN</td>\n",
              "      <td>Just got sent this photo from Ruby #Alaska as ...</td>\n",
              "      <td>1</td>\n",
              "    </tr>\n",
              "  </tbody>\n",
              "</table>\n",
              "</div>"
            ],
            "text/plain": [
              "   id keyword  ...                                               text target\n",
              "0   1     NaN  ...  Our Deeds are the Reason of this #earthquake M...      1\n",
              "1   4     NaN  ...             Forest fire near La Ronge Sask. Canada      1\n",
              "2   5     NaN  ...  All residents asked to 'shelter in place' are ...      1\n",
              "3   6     NaN  ...  13,000 people receive #wildfires evacuation or...      1\n",
              "4   7     NaN  ...  Just got sent this photo from Ruby #Alaska as ...      1\n",
              "\n",
              "[5 rows x 5 columns]"
            ]
          },
          "metadata": {
            "tags": []
          },
          "execution_count": 165
        }
      ]
    },
    {
      "cell_type": "markdown",
      "metadata": {
        "id": "OVHhCKc5EWhK"
      },
      "source": [
        "# Data processing text"
      ]
    },
    {
      "cell_type": "code",
      "metadata": {
        "id": "n9YTeSWezcfC"
      },
      "source": [
        "wl = WordNetLemmatizer()\n",
        "def preprocess_text(texts):\n",
        "  corpus = []\n",
        "  for text in texts:\n",
        "    text = re.sub(r'https?://\\S+|www\\.\\S+','',text)\n",
        "    text = re.sub('[^a-zA-Z]', ' ', text)\n",
        "    text = text.lower()\n",
        "    text = text.split()\n",
        "    all_stopwords = stopwords.words('english')\n",
        "    all_stopwords.remove('not')\n",
        "    text = [wl.lemmatize(word) for word in text if not word in set(all_stopwords)]\n",
        "    text = ' '.join(text)\n",
        "    corpus.append(text)\n",
        "\n",
        "  return corpus"
      ],
      "execution_count": 166,
      "outputs": []
    },
    {
      "cell_type": "code",
      "metadata": {
        "id": "X441IzZstcfO"
      },
      "source": [
        "df_train['processed_text'] = preprocess_text(df_train['text'])"
      ],
      "execution_count": 167,
      "outputs": []
    },
    {
      "cell_type": "code",
      "metadata": {
        "id": "-Bd_vaEGtllV",
        "colab": {
          "base_uri": "https://localhost:8080/"
        },
        "outputId": "038884f6-bab7-4e83-c258-cd4d74296752"
      },
      "source": [
        "print(df_train['text'][0:5])\n",
        "print(df_train['processed_text'][0:5])"
      ],
      "execution_count": 168,
      "outputs": [
        {
          "output_type": "stream",
          "text": [
            "0    Our Deeds are the Reason of this #earthquake M...\n",
            "1               Forest fire near La Ronge Sask. Canada\n",
            "2    All residents asked to 'shelter in place' are ...\n",
            "3    13,000 people receive #wildfires evacuation or...\n",
            "4    Just got sent this photo from Ruby #Alaska as ...\n",
            "Name: text, dtype: object\n",
            "0           deed reason earthquake may allah forgive u\n",
            "1                forest fire near la ronge sask canada\n",
            "2    resident asked shelter place notified officer ...\n",
            "3    people receive wildfire evacuation order calif...\n",
            "4    got sent photo ruby alaska smoke wildfire pour...\n",
            "Name: processed_text, dtype: object\n"
          ],
          "name": "stdout"
        }
      ]
    },
    {
      "cell_type": "markdown",
      "metadata": {
        "id": "5jnPvhhHEczQ"
      },
      "source": [
        "# Bag of Word"
      ]
    },
    {
      "cell_type": "code",
      "metadata": {
        "id": "IH7jwRiL2Mv5"
      },
      "source": [
        "from sklearn.feature_extraction.text import CountVectorizer\n",
        "cv = CountVectorizer(max_features = 1600)\n",
        "X = cv.fit_transform(df_train['processed_text']).toarray()\n",
        "y = df_train['target'].values"
      ],
      "execution_count": 169,
      "outputs": []
    },
    {
      "cell_type": "code",
      "metadata": {
        "id": "HQ5SWH87z-x-"
      },
      "source": [
        "from sklearn.model_selection import train_test_split\n",
        "X_train, X_test, y_train, y_test = train_test_split(X, y, test_size = 0.25)"
      ],
      "execution_count": 170,
      "outputs": []
    },
    {
      "cell_type": "markdown",
      "metadata": {
        "id": "NURtCQSIExJY"
      },
      "source": [
        "# Creat model"
      ]
    },
    {
      "cell_type": "markdown",
      "metadata": {
        "id": "NnM_R1uu9_gl"
      },
      "source": [
        "## Naive Bayes"
      ]
    },
    {
      "cell_type": "code",
      "metadata": {
        "id": "AoAknNF-1aM2",
        "colab": {
          "base_uri": "https://localhost:8080/"
        },
        "outputId": "0e8dd5d4-fddf-4bbc-b8ea-58834736924a"
      },
      "source": [
        "from sklearn.naive_bayes import GaussianNB\n",
        "Naive = GaussianNB()\n",
        "Naive.fit(X_train, y_train)"
      ],
      "execution_count": 171,
      "outputs": [
        {
          "output_type": "execute_result",
          "data": {
            "text/plain": [
              "GaussianNB(priors=None, var_smoothing=1e-09)"
            ]
          },
          "metadata": {
            "tags": []
          },
          "execution_count": 171
        }
      ]
    },
    {
      "cell_type": "code",
      "metadata": {
        "id": "FPjhKd5P1anP"
      },
      "source": [
        "NBpred = Naive.predict(X_test)"
      ],
      "execution_count": 172,
      "outputs": []
    },
    {
      "cell_type": "code",
      "metadata": {
        "id": "EmobZZX51eqN",
        "colab": {
          "base_uri": "https://localhost:8080/"
        },
        "outputId": "310541fb-b236-4403-8945-6122a392bbb6"
      },
      "source": [
        "from sklearn.metrics import confusion_matrix, accuracy_score\n",
        "cm = confusion_matrix(y_test, NBpred)\n",
        "print(cm)\n",
        "accuracy_score(y_test, NBpred)"
      ],
      "execution_count": 173,
      "outputs": [
        {
          "output_type": "stream",
          "text": [
            "[[975 107]\n",
            " [319 503]]\n"
          ],
          "name": "stdout"
        },
        {
          "output_type": "execute_result",
          "data": {
            "text/plain": [
              "0.7762605042016807"
            ]
          },
          "metadata": {
            "tags": []
          },
          "execution_count": 173
        }
      ]
    },
    {
      "cell_type": "markdown",
      "metadata": {
        "id": "yQLb6GC9BFwg"
      },
      "source": [
        "## Random Forest"
      ]
    },
    {
      "cell_type": "code",
      "metadata": {
        "id": "HL-KbnsXBWWn"
      },
      "source": [
        "from sklearn.ensemble import RandomForestClassifier\n",
        "from sklearn import model_selection\n",
        "# random forest model creation\n",
        "rfc = RandomForestClassifier()\n",
        "rfc.fit(X_train,y_train)\n",
        "# predictions\n",
        "rfc_pred = rfc.predict(X_test)"
      ],
      "execution_count": 174,
      "outputs": []
    },
    {
      "cell_type": "code",
      "metadata": {
        "colab": {
          "base_uri": "https://localhost:8080/"
        },
        "id": "ieqVRzvUBb_3",
        "outputId": "bd7e48f9-4a50-4b5b-ed47-683f367565ef"
      },
      "source": [
        "cm = confusion_matrix(y_test, rfc_pred)\n",
        "print(cm)\n",
        "accuracy_score(y_test, rfc_pred)"
      ],
      "execution_count": 175,
      "outputs": [
        {
          "output_type": "stream",
          "text": [
            "[[896 186]\n",
            " [240 582]]\n"
          ],
          "name": "stdout"
        },
        {
          "output_type": "execute_result",
          "data": {
            "text/plain": [
              "0.7762605042016807"
            ]
          },
          "metadata": {
            "tags": []
          },
          "execution_count": 175
        }
      ]
    },
    {
      "cell_type": "markdown",
      "metadata": {
        "id": "NdrldJwp8ALK"
      },
      "source": [
        "# 4Submission"
      ]
    },
    {
      "cell_type": "markdown",
      "metadata": {
        "id": "DTCurJQg8PqR"
      },
      "source": [
        "## Train full data"
      ]
    },
    {
      "cell_type": "markdown",
      "metadata": {
        "id": "1o3-UlL0-vme"
      },
      "source": [
        "Random Forest"
      ]
    },
    {
      "cell_type": "code",
      "metadata": {
        "colab": {
          "base_uri": "https://localhost:8080/"
        },
        "id": "4H7gNpaM-vMi",
        "outputId": "de2bfaf4-3cc3-431a-ea38-6e1a2738a817"
      },
      "source": [
        "rfc_full = RandomForestClassifier()\n",
        "rfc_full.fit(X,y)"
      ],
      "execution_count": 176,
      "outputs": [
        {
          "output_type": "execute_result",
          "data": {
            "text/plain": [
              "RandomForestClassifier(bootstrap=True, ccp_alpha=0.0, class_weight=None,\n",
              "                       criterion='gini', max_depth=None, max_features='auto',\n",
              "                       max_leaf_nodes=None, max_samples=None,\n",
              "                       min_impurity_decrease=0.0, min_impurity_split=None,\n",
              "                       min_samples_leaf=1, min_samples_split=2,\n",
              "                       min_weight_fraction_leaf=0.0, n_estimators=100,\n",
              "                       n_jobs=None, oob_score=False, random_state=None,\n",
              "                       verbose=0, warm_start=False)"
            ]
          },
          "metadata": {
            "tags": []
          },
          "execution_count": 176
        }
      ]
    },
    {
      "cell_type": "markdown",
      "metadata": {
        "id": "NC_ClQyQ-v5t"
      },
      "source": [
        "Naive Bayes"
      ]
    },
    {
      "cell_type": "code",
      "metadata": {
        "colab": {
          "base_uri": "https://localhost:8080/"
        },
        "id": "3ianvc0B8SKp",
        "outputId": "eb4648b2-f37e-4f93-8be8-da73fdb94788"
      },
      "source": [
        "Naive_full = GaussianNB()\n",
        "Naive_full.fit(X, y)"
      ],
      "execution_count": 177,
      "outputs": [
        {
          "output_type": "execute_result",
          "data": {
            "text/plain": [
              "GaussianNB(priors=None, var_smoothing=1e-09)"
            ]
          },
          "metadata": {
            "tags": []
          },
          "execution_count": 177
        }
      ]
    },
    {
      "cell_type": "code",
      "metadata": {
        "id": "geuVevPh--ja"
      },
      "source": [
        "df_test = pd.read_csv('test.csv')\n",
        "df_test['processed_text'] = preprocess_text(df_test['text'])"
      ],
      "execution_count": 178,
      "outputs": []
    },
    {
      "cell_type": "code",
      "metadata": {
        "colab": {
          "base_uri": "https://localhost:8080/"
        },
        "id": "6ST6Ql-x_Rhp",
        "outputId": "fc5daea6-159b-4441-8965-f7e11170f612"
      },
      "source": [
        "print(df_test['text'][0:5])\n",
        "print(df_test['processed_text'][0:5])"
      ],
      "execution_count": 179,
      "outputs": [
        {
          "output_type": "stream",
          "text": [
            "0                   Just happened a terrible car crash\n",
            "1    Heard about #earthquake is different cities, s...\n",
            "2    there is a forest fire at spot pond, geese are...\n",
            "3             Apocalypse lighting. #Spokane #wildfires\n",
            "4        Typhoon Soudelor kills 28 in China and Taiwan\n",
            "Name: text, dtype: object\n",
            "0                          happened terrible car crash\n",
            "1    heard earthquake different city stay safe ever...\n",
            "2    forest fire spot pond goose fleeing across str...\n",
            "3                 apocalypse lighting spokane wildfire\n",
            "4                   typhoon soudelor kill china taiwan\n",
            "Name: processed_text, dtype: object\n"
          ],
          "name": "stdout"
        }
      ]
    },
    {
      "cell_type": "code",
      "metadata": {
        "id": "mDWQgSeV_oFR"
      },
      "source": [
        "test_data = cv.fit_transform(df_test['processed_text']).toarray()"
      ],
      "execution_count": 180,
      "outputs": []
    },
    {
      "cell_type": "code",
      "metadata": {
        "id": "I7UfFKy0_106"
      },
      "source": [
        "NBpredict = Naive_full.predict(test_data)\n",
        "RFpredict = rfc_full.predict(test_data)"
      ],
      "execution_count": 181,
      "outputs": []
    },
    {
      "cell_type": "code",
      "metadata": {
        "id": "1c2k5xepAScw"
      },
      "source": [
        "submit_NB = pd.DataFrame()\n",
        "submit_NB['id'] = df_test['id']\n",
        "submit_NB['target'] = NBpredict\n",
        "\n",
        "\n",
        "\n",
        "submit_RF = pd.DataFrame()\n",
        "submit_RF['id'] = df_test['id']\n",
        "submit_RF['target'] = RFpredict"
      ],
      "execution_count": 182,
      "outputs": []
    },
    {
      "cell_type": "code",
      "metadata": {
        "colab": {
          "base_uri": "https://localhost:8080/"
        },
        "id": "OQzL6-DgAx1E",
        "outputId": "1ad1aad8-564c-4122-ad3a-b5427789a86e"
      },
      "source": [
        "from google.colab import drive\n",
        "drive.mount('/content/gdrive')"
      ],
      "execution_count": 183,
      "outputs": [
        {
          "output_type": "stream",
          "text": [
            "Drive already mounted at /content/gdrive; to attempt to forcibly remount, call drive.mount(\"/content/gdrive\", force_remount=True).\n"
          ],
          "name": "stdout"
        }
      ]
    },
    {
      "cell_type": "code",
      "metadata": {
        "id": "FEBzjobY_nwx"
      },
      "source": [
        "submit_NB.to_csv('/content/gdrive/MyDrive/Submission/submit_NB.csv',index=False)\n",
        "\n",
        "submit_RF.to_csv('/content/gdrive/MyDrive/Submission/submit_RF.csv',index=False)"
      ],
      "execution_count": 184,
      "outputs": []
    }
  ]
}